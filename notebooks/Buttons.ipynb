{
 "cells": [
  {
   "cell_type": "code",
   "execution_count": 1,
   "metadata": {
    "scrolled": false
   },
   "outputs": [
    {
     "data": {
      "application/vnd.jupyter.widget-view+json": {
       "model_id": "087160a141134e32a92d97265f2b7490",
       "version_major": 2,
       "version_minor": 0
      },
      "text/plain": [
       "GridBox(children=(Button(description='choose goal', layout=Layout(grid_area='b1', width='auto'), style=ButtonS…"
      ]
     },
     "metadata": {},
     "output_type": "display_data"
    },
    {
     "data": {
      "application/vnd.jupyter.widget-view+json": {
       "model_id": "54ab784d4e38418087b7ff5eab871bde",
       "version_major": 2,
       "version_minor": 0
      },
      "text/plain": [
       "Text(value='', description='X:')"
      ]
     },
     "metadata": {},
     "output_type": "display_data"
    },
    {
     "data": {
      "application/vnd.jupyter.widget-view+json": {
       "model_id": "9f0db23356234cea8d2b71b7f0740807",
       "version_major": 2,
       "version_minor": 0
      },
      "text/plain": [
       "Text(value='', description='Y:')"
      ]
     },
     "metadata": {},
     "output_type": "display_data"
    },
    {
     "data": {
      "application/vnd.jupyter.widget-view+json": {
       "model_id": "670ee4b17cb149a3a94d2279d3122c8c",
       "version_major": 2,
       "version_minor": 0
      },
      "text/plain": [
       "Button(description='send goal', layout=Layout(width='auto'), style=ButtonStyle(button_color='lightblue'))"
      ]
     },
     "metadata": {},
     "output_type": "display_data"
    },
    {
     "name": "stdout",
     "output_type": "stream",
     "text": [
      "[INFO] [1685297696.904614, 1242.641000]: Goal sent!\n",
      "\n"
     ]
    }
   ],
   "source": [
    "#!/usr/bin/env python\n",
    "\n",
    "import rospy,actionlib,ipywidgets as widgets\n",
    "\n",
    "from my_assignment.msg import PlanningAction, PlanningGoal,Posvel\n",
    "\n",
    "from nav_msgs.msg import Odometry\n",
    "\n",
    "from my_assignment.srv import Counter\n",
    "\n",
    "from ipywidgets import Button, ButtonStyle, Layout, GridBox, Text\n",
    "\n",
    "from IPython.display import display\n",
    "\n",
    "from ipywidgets import interact, interactive, fixed,interact_manual\n",
    "\n",
    "x=0\n",
    "y=0\n",
    "\n",
    "b1=Button(description=\"choose goal\",layout=Layout(width=\"auto\",align=\"center\",grid_area=\"b1\"),\n",
    "                 style=ButtonStyle(button_color=\"lightblue\"))\n",
    "\n",
    "b2=Button(description=\"cancel goal\",layout=Layout(width=\"auto\",grid_area=\"b2\"),\n",
    "                 style=ButtonStyle(button_color=\"moccasin\"))\n",
    "\n",
    "b3=Button(description=\"reached/cancelled goals\",layout=Layout(width=\"auto\",grid_area=\"b3\"),\n",
    "                 style=ButtonStyle(button_color=\"salmon\"))\n",
    "\n",
    "b4=Button(description=\"exit\",layout=Layout(width=\"auto\",grid_area=\"b4\"),\n",
    "                 style=ButtonStyle(button_color=\"green\"))\n",
    "\n",
    "b5=Button(description=\"send goal\",layout=Layout(width=\"auto\",align=\"center\"),\n",
    "                 style=ButtonStyle(button_color=\"lightblue\"))\n",
    "\n",
    "x_text = widgets.Text(\n",
    "            description='X:',\n",
    "            button_style='', # 'success', 'info', 'warning', 'danger' or ''\n",
    "            disabled=False\n",
    "            )\n",
    "   \n",
    "y_text = widgets.Text(\n",
    "            description='Y:',\n",
    "            button_style='', # 'success', 'info', 'warning', 'danger' or ''\n",
    "            disabled=False\n",
    "            )\n",
    "\n",
    "def exit(b):\n",
    "    \n",
    "    exit(0)\n",
    "\n",
    "def callb(wdgt):\n",
    "    \n",
    "    global x\n",
    "    \n",
    "    x=float(wdgt.value)\n",
    "    \n",
    "def callb2(wdgt):\n",
    "    \n",
    "    global y\n",
    "    \n",
    "    y=float(wdgt.value)\n",
    "    \n",
    "\n",
    "def send_goal(b):\n",
    "    \n",
    "    goal=PlanningGoal()  #initialising goal to the message PlanningGoal\n",
    "\n",
    "    goal.target_pose.pose.position.x=x #set the x goal position\n",
    "\n",
    "    goal.target_pose.pose.position.y=y #set the y goal position\n",
    "    \n",
    "    \n",
    "    \n",
    "    #goal=PlanningGoal()  #initialising goal to the message PlanningGoal\n",
    "\n",
    "    #goal.target_pose.pose.position.x=2 #set the x goal position\n",
    "\n",
    "    #goal.target_pose.pose.position.y=2 #set the y goal position\n",
    "    \n",
    "    client.wait_for_server()\n",
    "    \n",
    "    client.send_goal(goal) #sending goal to the server\n",
    "    \n",
    "    rospy.loginfo(\"Goal sent!\\n\")\n",
    "    \n",
    "\n",
    "def goals(b):\n",
    "    \n",
    "    \n",
    "    display(x_text)\n",
    "    display(y_text)\n",
    "    \n",
    "    display(b5)\n",
    "    \n",
    "   \n",
    "        \n",
    "\n",
    "def cancel(b):\n",
    "    \n",
    "    client.wait_for_server()\n",
    "    client.cancel_goal()\n",
    "    rospy.loginfo(\"Goal cancelled!\\n\")\n",
    "    \n",
    "\n",
    "def reached_cancelled(b):\n",
    "    \n",
    "    rospy.wait_for_service('counter') #synchronizing with service node\n",
    "    service=rospy.ServiceProxy('counter',Counter) #request to the service node \n",
    "    counter=service(\"ok\") # used a message \"ok\" to avoid any problem with empty message\n",
    "    rospy.loginfo(\"reached goal: %s and cancelled goal: %s\\n\" %(counter.total_reach,counter.total_cancel))\n",
    "    \n",
    "\n",
    "    \n",
    "def publish_function(od): \n",
    "\n",
    "    pub=rospy.Publisher('/posvel',Posvel,queue_size=10) # publisher on /posvel topic\n",
    "\n",
    "    info=Posvel() #initialising info to the custom message Posvel\n",
    "\n",
    "    info.x=od.pose.pose.position.x #get x position from /odom topic\n",
    "\n",
    "    info.y=od.pose.pose.position.y #get y position from /odom topic\n",
    "\n",
    "    info.vel_x=od.twist.twist.linear.x #get x linear velocity from /odom topic\n",
    "\n",
    "    info.vel_z=od.twist.twist.angular.z #get z angular velocity from /odom topic\n",
    "\n",
    "    pub.publish(info) # publish info on /posvel topic\n",
    "    \n",
    "\n",
    "\n",
    "\n",
    "rospy.init_node('planning_client2') #necessary to start the node\n",
    "\n",
    "client=actionlib.SimpleActionClient('reaching_goal',PlanningAction) #necessary to start the client\n",
    "\n",
    "rospy.Subscriber('/odom',Odometry,publish_function) #subscribing to /odom topic\n",
    "\n",
    "\n",
    "        \n",
    "b1.on_click(goals) \n",
    "b2.on_click(cancel)\n",
    "b3.on_click(reached_cancelled)\n",
    "b4.on_click(exit)\n",
    "b5.on_click(send_goal)\n",
    "\n",
    "x_text.on_submit(callb)\n",
    "y_text.on_submit(callb2)\n",
    "\n",
    "GridBox(children=[b1,b2,b3,b4],layout=Layout(width=\"80%\",grid_template_rows=\"auto auto\",\n",
    "                  grid_template_columns=\"45% 45%\", \n",
    "                  grid_template_areas='''\"b1 b2\"\n",
    "                                     \"b3 b4\"'''))\n"
   ]
  },
  {
   "cell_type": "code",
   "execution_count": null,
   "metadata": {},
   "outputs": [],
   "source": []
  },
  {
   "cell_type": "code",
   "execution_count": null,
   "metadata": {},
   "outputs": [],
   "source": []
  }
 ],
 "metadata": {
  "kernelspec": {
   "display_name": "Python 3 (ipykernel)",
   "language": "python",
   "name": "python3"
  },
  "language_info": {
   "codemirror_mode": {
    "name": "ipython",
    "version": 3
   },
   "file_extension": ".py",
   "mimetype": "text/x-python",
   "name": "python",
   "nbconvert_exporter": "python",
   "pygments_lexer": "ipython3",
   "version": "3.8.5"
  }
 },
 "nbformat": 4,
 "nbformat_minor": 2
}
